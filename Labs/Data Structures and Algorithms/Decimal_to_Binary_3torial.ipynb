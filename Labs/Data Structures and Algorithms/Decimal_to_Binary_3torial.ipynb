{
 "cells": [
  {
   "cell_type": "markdown",
   "id": "966f43c5-c20c-4b5b-aceb-c845d5475a0e",
   "metadata": {},
   "source": [
    "# Decimal to Binary Conversions in Python3\r\n",
    "\r\n",
    "## A World..redacted 3torial\r\n",
    "\r\n",
    "In this 3torial, we will cover **3 different ways** to convert decimal numbers into binary using the vast capabilities of Python3.\r\n",
    "\r\n",
    "This 3torial is not intended to be an expansive overview of numbering systems, but rather a review of some basic concepts to help in understanding the overall functionality of our program.\r\n",
    "\r\n",
    "---\r\n",
    "\r\n",
    "### Decimal Numbering System\r\n",
    "\r\n",
    "That said, allow me to briefly survey the decimal numbering, or **base-10** system.\r\n",
    "\r\n",
    "Most, if not all, people use the decimal numbering system to some degree, just about every day. We see it everywhere from date, time, inventory amounts, payroll, etc. With that understanding, we won’t take too much time on this overview.\r\n",
    "\r\n",
    "Given the number **3,457**, would you have any difficulty at all determining its value? **Three thousand four hundred fifty-seven**, to be clear, is how one would say this number out loud.\r\n",
    "\r\n",
    "Diving a bit deeper, we can see that this is due to the nature of the base-10 system. The base of the framework surrounding the decimal system is th to binary in Python3!\r\n"
   ]
  },
  {
   "cell_type": "markdown",
   "id": "82521ae8-72c9-4330-8db9-6636b43fc304",
   "metadata": {},
   "source": [
    "Position | Value | Value     \n",
    "----------|-------|-------\n",
    "1000      | 10^3  |   3                       \n",
    "100       | 10^2  |   4                       \n",
    "10        | 10^1  |   5                        \n",
    "1         | 10^0  |   7                        \n"
   ]
  },
  {
   "cell_type": "markdown",
   "id": "ee643449-36ac-429f-addf-108b20ed19ce",
   "metadata": {},
   "source": [
    "Without even knowing anything about the decimal system, solely relying on what you already know through everyday life, there should be no issues seeing that the **7** in this number holds the value of **7** due to its ‘position’ in the number. It is also easy to see that if we wanted to write the number **10**, we could not place that in the same position as the **7**.\n",
    "\n",
    "That’s because the only valid numbers in a **base-10** system are **0-9**. In the example above, each column represents a multiple of **10**. In other words, we have a ones column which represents **10** to the ‘power’ of zero. Knowing that any number to the power of zero results in **1**, any number **0-9** in this column would be multiplied by **1** to determine its value. Also, any number in the column to the immediate left would have a value of **10** times the amount of the column on the right.\n",
    "\n",
    "Finally, if the digit **‘1’** were in the 3rd column, it would have a value of **100** times **1**. The 4th column would have a value of **1000** times etc. That’s pretty much all we need to be comfortable with for our overview of base-10 systems.\n",
    "\n",
    "---\n",
    "\n",
    "### Binary Number System\n",
    "\n",
    "Now, let us consider binary or **Base-2** numbering systems. Keeping in mind how the base-10 system works, we will easily explain the base-2 framework. As in base-10, the only valid digits per column are **0-9**. Base-2 only allows the digits **0** or **1** in any column. Also, just how each column in base-10 represents a power of **10**, each column in base-2 would represent a power of **2**.\n"
   ]
  },
  {
   "cell_type": "markdown",
   "id": "945925c6-5d47-43a8-a6aa-b2ee2c04c1e4",
   "metadata": {},
   "source": [
    "| Exponent | Power of 2 |\r\n",
    "|----------|-------------|\r\n",
    "| 2^7      | 128         |\r\n",
    "| 2^6      | 64          |\r\n",
    "| 2^5      | 32          |\r\n",
    "| 2^4      | 16          |\r\n",
    "| 2^3      | 8           |\r\n",
    "| 2^2      | 4           |\r\n",
    "| 2^1      | 2           |\r\n",
    "| 2^0      | 1           |\r\n"
   ]
  },
  {
   "cell_type": "markdown",
   "id": "4f9ffe34-9242-468f-92d0-f309aa42889d",
   "metadata": {},
   "source": [
    "Let’s take note of a few things here. Starting with the column furthest to the right, we see **2^0**. Just as in any other number to the power of zero, the value returned is **1**. Also, as in the base-10 system, to move to a column to the left, a value of **10** must be multiplied. In the case of **Base-2**, a value of **2** would be multiplied.\r\n",
    "\r\n",
    "Now we can understand the base-2 progression. Column 1 has a value of **1**. If we move to the column to the left, the value is multiplied by **2**. So, we have **2, 4, 8, 16**, etc.\r\n",
    "\r\n",
    "---\r\n",
    "\r\n",
    "Now let’s combine the two systems and see how we can tell what value a decimal number would have in binary.\r\n",
    "\r\n",
    "Let’s take the decimal number **75** for this example. How could we express this in binary? We will use the same concept as the decimal system. In decimal, the **7** would be in the **10’s place**, giving it a value of **70**. The **5** is in the **1’s column**, giving it the value of **5**.\r\n"
   ]
  },
  {
   "cell_type": "markdown",
   "id": "a3e916f0-60c5-4f70-bbb0-8eaa5c59981c",
   "metadata": {},
   "source": [
    "| Place | Value |\r\n",
    "|------:|-------|\r\n",
    "| 10's  | 7     |\r\n",
    "| 1's   | 5     |\r\n"
   ]
  },
  {
   "cell_type": "markdown",
   "id": "545d3508-acd9-447a-aee8-4d07395b9324",
   "metadata": {},
   "source": [
    "In binary, however, we don’t have a **10** place to put the **7**. Even if we did, we couldn’t use **7** anyway because **0** and **1** are the only valid digits in base-2 systems. Therein lies our first obstacle. Let’s see how we can handle this using the binary chart.\r\n",
    "\r\n",
    "Since we cannot use **7’s** or **5’s** in our solution, let’s figure out how to use the **0’s** and **1’s** that we are allowed. For this 3torial, we are going to analyze binary in a programming sense. That will allow us to implement some concepts to explain how we can go about creating our program.\r\n",
    "\r\n",
    "Looking at the numbers **1-128** on our binary chart, we notice that we have **8 positions**. For our purposes, we will call each position a **‘bit’**. Eight bits have a value of **one byte** (or an **octet**). That doesn’t have an extreme amount of relevance to this 3torial, but it is a concept that will help with programming in general.\r\n",
    "\r\n",
    "If we consider each bit like a switch that can be either ‘on’ or ‘off’, we can assign a value of **1** for on and **0** for off. Now let’s go to work. To get a value of **75** in binary, we must turn some bits on, assuming all bits are off by default.\r\n"
   ]
  },
  {
   "cell_type": "markdown",
   "id": "cc84278b-c4a7-4cf1-aedc-211d2134f930",
   "metadata": {},
   "source": [
    "| 128    | 64     | 32      | 16      | 8       | 4       | 2       | 1       |\r\n",
    "|--------|--------|---------|---------|---------|---------|---------|---------|\r\n",
    "| 0      | 1      | 0       | 0       | 0       | 0       | 0       | 0       |\r\n"
   ]
  },
  {
   "cell_type": "markdown",
   "id": "72a0f0e1-7e42-4b25-91d2-4519232f1eb5",
   "metadata": {},
   "source": [
    "The highest value we can attain without going **OVER 75** on our binary chart is **64**. So, we need to turn that bit on to activate the value of **64**. Currently, all other bits are off. Specifically, the **128** bit. We won’t need that at all because it’s already more than **75**.\r\n",
    "\r\n",
    "**64** is not **75**, so we must turn on more bits. How do we know which ones to turn on now? First, we subtract the **64** from **75** and get the remainder of **11**. From here, we repeat the process. Which bit gets us closest to **11** without going over **11**?\r\n"
   ]
  },
  {
   "cell_type": "markdown",
   "id": "51194108-ea0e-4c43-a92a-efbf7a7f0c89",
   "metadata": {},
   "source": [
    "| 128    | 64     | 32      | 16      | 8       | 4       | 2       | 1       |\r\n",
    "|--------|--------|---------|---------|---------|---------|---------|---------|\r\n",
    "| 0      | 1      | 0       | 0       | 1      | 0       | 0       | 0       |\r\n"
   ]
  },
  {
   "cell_type": "markdown",
   "id": "6dcd92df-310d-4243-b936-6caf98a4f199",
   "metadata": {},
   "source": [
    "Seeing as how **32** and **16** are more than **11**, we leave those bits turned off. We turn on the **8** bit, however, because it gets us closest to **11**. **64** and **8** still don’t give us **75**. We’re still a bit short (no pun intended). **64** and **8** give us **72**. To reach **75**, we need **3** more. Since we can’t use **3** (remember, only **0** and **1** are valid in base-2), we must turn on bit **2** and bit **1**. Bit **4** would remain off. Our final binary output would be **(0 1 0 0 1 0 1 1)**.\r\n"
   ]
  },
  {
   "cell_type": "markdown",
   "id": "4d7e1512-11bd-4dab-95c8-b7cdf1f55f5f",
   "metadata": {},
   "source": [
    "| 128    | 64     | 32      | 16      | 8       | 4       | 2       | 1       |\r\n",
    "|--------|--------|---------|---------|---------|---------|---------|---------|\r\n",
    "| 0      | 1      | 0       | 0       | 1      | 0       | 1      | 1       |\r\n"
   ]
  },
  {
   "cell_type": "markdown",
   "id": "a46fe287-e2c2-4010-b251-4c20237b4673",
   "metadata": {},
   "source": [
    "If we add the values of the bits we turned on (**64 + 8 + 2 + 1**), we do, indeed, get **75**.\r\n",
    "\r\n",
    "Please note that the base-2 system can surely extend past a byte (**128**), but the scope of this 3torial is fine with just one byte. That said, allow us another example to solidify the concept before we move forward.\r\n",
    "\r\n",
    "---\r\n",
    "\r\n",
    "### How could we express the decimal value 255 in binary?\r\n",
    "\r\n",
    "Using what we just learned, we can see that **128** is the highest bit that we can use without going over **255**. So, what can we do? I would assume a student somewhere in the world would say, ‘Why can’t we use the next bit to the left’? Well, let’s see. What would be the value of the next bit to the left? Since we are in a base-2 system, we multiply **128** by **2** and we get **256**. That’s not going to work because we need **255**.\r\n",
    "\r\n",
    "Coincidentally, if we did need **256**, then we would indeed need another bit. Now before we even go any further, perhaps we can show how much we have learned so far without even knowing we learned it! Let’s go back for a second to base-10. If I want to write **10**, I need the **10’s place** because the highest number I can use in the **1’s place** is **9**. So, I have to move to the left. If I wanted the value of **1000**, I need the **1000’s place** because the highest value I can have with **100’s, 10’s, and 1’s** is **999**. I must move to the left.\r\n",
    "\r\n",
    "What did we notice there?? Before moving to the left, all the places to the right must be completely full. Once we move to the left, the right side turns to zero. Hmmm. If that’s the case, in binary, if we need to represent **255** and we know that the bit to the left of **128** is **256**, how many bits would you say have to be filled up before we need to go to **256**? If you said **255**!! Then not only are you right on the money, but you also have done all the work already.\r\n"
   ]
  },
  {
   "cell_type": "markdown",
   "id": "82a75e8c-868f-4032-8333-f8e5eceb892e",
   "metadata": {},
   "source": [
    "| 128    | 64     | 32      | 16      | 8       | 4       | 2       | 1       |\r\n",
    "|--------|--------|---------|---------|---------|---------|---------|---------|\r\n",
    "| 1      | 1      | 1       | 1       | 1       | 1       | 1       | 1       |\r\n"
   ]
  },
  {
   "cell_type": "markdown",
   "id": "00f0d0f9-89d5-4316-b89a-c3be657a34aa",
   "metadata": {},
   "source": [
    "Let’s turn all the bits on, count them up, and see what we have:\r\n",
    "\r\n",
    "**128 + 64 + 32 + 16 + 8 + 4 + 2 + 1 = 255!**\r\n"
   ]
  },
  {
   "cell_type": "markdown",
   "id": "eb25ae2b-c1b9-4243-87df-f4ee250bafa9",
   "metadata": {},
   "source": [
    "| 1000's    | 100's    | 10's    | 1's     |\r\n",
    "|-----------|----------|---------|---------|\r\n",
    "  9         | 9        | 9       | 9       |\r\n"
   ]
  },
  {
   "cell_type": "markdown",
   "id": "834dc7ef-4d10-4272-b2ff-b305bd506e3f",
   "metadata": {},
   "source": [
    "| 1000's    | 100's    | 10's    | 1's     |\r\n",
    "|-----------|----------|---------|---------|\r\n",
    "| 1         | 0        | 0       | 0       |\r\n"
   ]
  },
  {
   "cell_type": "markdown",
   "id": "b5ba9741-1d4d-4148-9365-13ebb7372098",
   "metadata": {},
   "source": [
    "| 256     | 128     | 64      | 32      | 16      | 8       | 4       | 2       | 1       |\r\n",
    "|---------|---------|---------|---------|---------|---------|---------|---------|---------|\r\n",
    "| 0       | 1       | 1       | 1       | 1       | 1       | 1       | 1       | 1       |\r\n"
   ]
  },
  {
   "cell_type": "markdown",
   "id": "5b546032-5837-4126-9f2a-99d8cb5c4bec",
   "metadata": {},
   "source": [
    "| 256      | 128     | 64      | 32      | 16      | 8       | 4       | 2       | 1       |\r\n",
    "|----------|---------|---------|---------|---------|---------|---------|---------|---------|\r\n",
    "| 1        | 0       | 0       | 0       | 0       | 0       | 0       | 0       | 0       "
   ]
  },
  {
   "cell_type": "markdown",
   "id": "1b3f797e-d1c0-41d3-8d9e-433f6cfc49bf",
   "metadata": {},
   "source": [
    "Great work. That concludes our overview of the numbering systems we will be working with. Allow us now to move forward with some concepts that will help us get to Python3.\r\n",
    "\r\n",
    "Given the basic framework of the binary (**base-2**) system, the first concept we will visit is **division by 2**. In programming, it is commonly known that any number, when divided by **2**, will either have **0** or **1** as a remainder. More specifically, any even number (**0, 2, 4, 6**, etc.) divided by **2** will have zero as a remainder, and any odd number (**1, 3, 5, 7**, etc.) divided by **2** will have a remainder of **1**.\r\n",
    "\r\n",
    "Keep in mind that in Python3, if we want to know if a number divided by **2** results in a **0** or **1**, we can use **‘modulo’**.\r\n",
    "\r\n",
    "---\r\n",
    "\r\n",
    "### Modulo Definition\r\n",
    "\r\n",
    "The modulo operation finds the remainder after division of one number by another. In Python3, the modulo operator is represented by the **%** symbol. For example:\r\n",
    "\r\n",
    "```python\r\n",
    "# Example of modulo operation\r\n",
    "remainder = 10 % 2  # This will return 0 because 10 is evenly divisible by 2\r\n",
    "remainder = 11 % 2  # This will return 1 because 11 divided by 2 leaves a remainder of 1\r\n"
   ]
  },
  {
   "cell_type": "markdown",
   "id": "58e70cc5-f4df-4bd1-b6fa-88b3ce6b0670",
   "metadata": {},
   "source": [
    "| Expression | Result |\r\n",
    "|------------|--------|\r\n",
    "| 4 % 2      | 0      |\r\n",
    "| 3 % 2      | 1      |\r\n"
   ]
  },
  {
   "cell_type": "markdown",
   "id": "d1b50703-1e0d-4217-bd19-66cd4c310ff9",
   "metadata": {},
   "source": [
    "Also given the basic framework of the binary (**base-2**) system, allow us to explore **successive divisions**. Don’t be afraid of division, assuming any of you are. We are in a base-2 system, so all we are going to be dividing by is **2**.\r\n",
    "\r\n",
    "**Successive division** is a mathematical operation where a number is repeatedly divided by another number until a specified condition is met. It involves performing multiple division operations one after the other, often with each result being used as the dividend in the next division.\r\n",
    "\r\n",
    "In Python3, when we want to perform an action repeatedly until a certain condition is met, we can use **‘while loops’**.\r\n",
    "\r\n",
    "---\r\n",
    "\r\n",
    "### While Loop Definition\r\n",
    "\r\n",
    "A **while loop** in Python3 repeatedly executes a block of code as long as a given condition is true. The syntax is:\r\n",
    "\r\n",
    "```python\r\n",
    "while condition:\r\n",
    "    # code block to be executed\r\n"
   ]
  },
  {
   "cell_type": "markdown",
   "id": "c9603dae-3a99-4ec7-b79a-0d34b0e3a80e",
   "metadata": {},
   "source": [
    "## Converting Decimal Number 75 to Binary\r\n",
    "\r\n",
    "Let's use the decimal number **75**. This time we will use successive division to get the binary result. Remember, we are just going to be dividing by 2 each time, keeping note of any remainders.\r\n",
    "\r\n",
    "### Step-by-Step Process\r\n",
    "\r\n",
    "1. **Divide 75 by 2**:\r\n",
    "   - Quotient: 37\r\n",
    "   - Remainder: 1\r\n",
    "\r\n",
    "2. **Divide 37 by 2**:\r\n",
    "   - Quotient: 18\r\n",
    "   - Remainder: 1\r\n",
    "\r\n",
    "3. **Divide 18 by 2**:\r\n",
    "   - Quotient: 9\r\n",
    "   - Remainder: 0\r\n",
    "\r\n",
    "4. **Divide 9 by 2**:\r\n",
    "   - Quotient: 4\r\n",
    "   - Remainder: 1\r\n",
    "\r\n",
    "5. **Divide 4 by 2**:\r\n",
    "   - Quotient: 2\r\n",
    "   - Remainder: 0\r\n",
    "\r\n",
    "6. **Divide 2 by 2**:\r\n",
    "   - Quotient: 1\r\n",
    "   - Remainder: 0\r\n",
    "\r\n",
    "7. **Divide 1 by 2**:\r\n",
    "   - Quotient: 0\r\n",
    "   - Remainder: 1\r\n",
    "\r\n",
    "### Binary Result\r\n",
    "\r\n",
    "The binary result is obtained by reading the remainders in reverse order: **1001011**.\r\n"
   ]
  },
  {
   "cell_type": "markdown",
   "id": "8ecc7a16-7022-4ee5-abde-033a46c72d0e",
   "metadata": {},
   "source": [
    "| Operation | Result |\r\n",
    "|----------|--------|\r\n",
    "| 75 / 2   | 37 R 1 |\r\n",
    "| 37 / 2   | 18 R 1 |\r\n",
    "| 18 / 2   | 9  R 0 |\r\n",
    "| 9 / 2    | 4  R 1 |\r\n",
    "| 4 / 2    | 2  R 0 |\r\n",
    "| 2 / 2    | 1  R 0 |\r\n",
    "| 1 / 2    | 0  R 1 |\r\n"
   ]
  },
  {
   "cell_type": "markdown",
   "id": "0a991f69-abcf-411e-b9b9-21a9c7197064",
   "metadata": {},
   "source": [
    "## Automating Decimal to Binary Conversion\r\n",
    "\r\n",
    "Successive division is an excellent way to handle decimal to binary conversions. One may argue, however, that it can prove to be a tedious process. Would you agree? Well, it’s a good thing that Python3 is perfect for executing operation multiple times.\r\n",
    "\r\n",
    "Now let’s get to the basics of Python3 and see if we can get some automation in the works for this process.\r\n"
   ]
  },
  {
   "cell_type": "code",
   "execution_count": null,
   "id": "3d523919-ec86-40c6-b18e-1a3108c8bb4b",
   "metadata": {},
   "outputs": [],
   "source": [
    "# World..redacted\n",
    "# pAIthon-Labs\n",
    "# Decimal to Binary Program\n",
    "# Method 1\n",
    "# Automated Successive Division\n",
    "# 3torial series\n",
    "# 9/9/2024\n"
   ]
  },
  {
   "cell_type": "code",
   "execution_count": 14,
   "id": "6f7a1812-8c7f-4b07-be88-a3f9d34e95a4",
   "metadata": {},
   "outputs": [
    {
     "name": "stdout",
     "output_type": "stream",
     "text": [
      "1001011\n",
      "11111111\n"
     ]
    }
   ],
   "source": [
    "# 1: Define first function for 3torial methods; Accepts the decimal we need to convert as an argument\n",
    "def decimal_to_binary_method1(n):\n",
    "    if n == 0:  # 2: If the number is zero, no calculation needed; Return value as zero\n",
    "        return '0'\n",
    "    binary = ''  # 3: Create empty string named 'binary' to store the bits; This will end up being our result in binary\n",
    "    while n > 0:  # 4: We use a while loop to control the successive division; The loop will end when division reaches zero\n",
    "        binary = str(n % 2) + binary  # 5: We use modulo to determine if dividing the decimal (n) by 2 leaves a remainder of 0 or 1\n",
    "        n //= 2  # 6: After this, n is divided by 2; This will start shifting the bits into place\n",
    "       # print(binary)  # 7: This print statement can be uncommented by removing the '#'; Run code and follow the iterations\n",
    "    return binary  # 8: The final result will be our decimal number converted to binary value\n",
    "\n",
    "# Example run\n",
    "print(decimal_to_binary_method1(75))\n",
    "print(decimal_to_binary_method1(255))\n",
    "\n",
    "# Try your own conversion below\n",
    "#print(decimal_to_binary_method1( ))\n"
   ]
  },
  {
   "cell_type": "markdown",
   "id": "2ee165c9-f55f-4e73-98e1-4192f4ecfad9",
   "metadata": {},
   "source": [
    "### Comments Explained\r\n",
    "\r\n",
    "1. **Define first function for 3torial methods**: Accepts the decimal we need to convert as an argument.\r\n",
    "2. **If the number is zero**: No calculation needed; Return value as zero.\r\n",
    "3. **Create empty string named 'binary'**: To store the bits; This will end up being our result in binary.\r\n",
    "4. **Use a while loop**: To control the successive division; The loop will end when division reaches zero.\r\n",
    "5. **Use modulo**: To determine if dividing the decimal (n) by 2 leaves a remainder of 0 or 1. The result is converted to a string ('0' or '1') and prepended to the binary string.\r\n",
    "6. **Divide by 2**: This will start shifting the bits into place. Using floor division (//) allows us to successively divide only the integer part of the decimal.\r\n",
    "7. **Print statement**: Can be uncommented by removing the '#'; Run code and follow the iterations. Let's walk through this process for the number 75:\r\n",
    "    - Initially, n = 75, result = ''\r\n",
    "    - Iteration 1: n % 2 = 1, result = '1', n = 75 // 2 = 37\r\n",
    "    - Iteration 2: n % 2 = 1, result = '11', n = 37 // 2 = 18\r\n",
    "    - Iteration 3: n % 2 = 0, result = '011', n = 18 // 2 = 9\r\n",
    "    - ... (continues until n = 0)\r\n",
    "    - Final result = '1001011'\r\n",
    "    - Be sure to delete the print statement after testing; or replace the '#' to comment it out.\r\n",
    "8. **Final result**: Will be our decimal number converted to binary value.\r\n",
    "\r\n",
    "This method allows us to use basic Python3 functionality to mimic successive division for converting decimal numbers to binary.\r\n"
   ]
  },
  {
   "cell_type": "code",
   "execution_count": null,
   "id": "4dc958c1-3fec-40c0-a39c-1e189f063105",
   "metadata": {},
   "outputs": [],
   "source": []
  }
 ],
 "metadata": {
  "kernelspec": {
   "display_name": "Python 3 (ipykernel)",
   "language": "python",
   "name": "python3"
  },
  "language_info": {
   "codemirror_mode": {
    "name": "ipython",
    "version": 3
   },
   "file_extension": ".py",
   "mimetype": "text/x-python",
   "name": "python",
   "nbconvert_exporter": "python",
   "pygments_lexer": "ipython3",
   "version": "3.12.4"
  },
  "panel-cell-order": [
   "cfc86146-e94a-48e6-b0f7-16a15dbc6d53"
  ]
 },
 "nbformat": 4,
 "nbformat_minor": 5
}
